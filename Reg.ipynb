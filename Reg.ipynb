{
 "cells": [
  {
   "cell_type": "code",
   "execution_count": 90,
   "metadata": {
    "collapsed": false
   },
   "outputs": [
    {
     "name": "stdout",
     "output_type": "stream",
     "text": [
      "3 4 6 7\n",
      "5.6 8.8 10.2 13.3\n"
     ]
    }
   ],
   "source": [
    "import numpy as np\n",
    "import matplotlib.pyplot as plt\n",
    "\n",
    "\n",
    "\n",
    "#Input der Daten\n",
    "\n",
    "z=input()\n",
    "x=z.split()\n",
    "x = [float(a) for a in x]\n",
    "#x= [1, 3.42, 5.52, 2.76, 8.32, 10.98, 0.25, 7.3, 1.54]\n",
    "\n",
    "z=input()\n",
    "y=z.split()\n",
    "y = [float(a) for a in y]\n",
    "\n",
    "n=len(x)\n",
    "\n",
    "\n",
    "\"\"\"\n",
    "y=[]\n",
    "for i in range(n):\n",
    "    c=np.random.uniform(0.7,1.3)\n",
    "    d=np.random.uniform(-3,3)\n",
    "    y.append(x[i]*-3*c+4.5+d)\n",
    "\"\"\"    \n",
    "\n",
    "#Hilfswerte für Grenzen\n",
    "\n",
    "mx=int((max(x)*1.2))+1\n",
    "mym=int((min(y)*1.2))+1\n",
    "myp=int((max(y)*1.2))+1\n",
    "if(mym>0):\n",
    "    mym=0\n",
    "if(myp<0):\n",
    "    myp=0\n",
    "\n",
    "#Hilfswerte für Formel(gegeben durch Wikipedia)\n",
    "\n",
    "sx=0\n",
    "sy=0\n",
    "sxx=0\n",
    "sxy=0\n",
    "sxsy=0\n",
    "for count in range(n):\n",
    "    sxy+=x[count]*y[count]\n",
    "for count in range(n):\n",
    "    sx+=x[count]\n",
    "    sy+=y[count]\n",
    "sxsy=sx*sy\n",
    "sxsx=sx*sx\n",
    "\n",
    "# Werte der Gerade berechnen\n",
    "\n",
    "for count in range(n):\n",
    "    sxx+=(x[count]*x[count])\n",
    "b=((n*sxy-sxsy)/(n*sxx-sxsx))\n",
    "a=((sxx*sy-sx*sxy)/(n*sxx-sxsx))\n",
    "\n",
    "# Funktion und Grenzen einstellen\n",
    "\n",
    "xi=np.arange(0,mx)\n",
    "line=b*xi+a\n",
    "\n",
    "\n",
    "# Plot erstellen\n",
    "plt.plot(xi, line)\n",
    "plt.plot(x, y, 'ro')\n",
    "plt.axis([0,mx,mym,myp])\n",
    "plt.show()"
   ]
  }
 ],
 "metadata": {
  "kernelspec": {
   "display_name": "Python 3",
   "language": "python",
   "name": "python3"
  },
  "language_info": {
   "codemirror_mode": {
    "name": "ipython",
    "version": 3
   },
   "file_extension": ".py",
   "mimetype": "text/x-python",
   "name": "python",
   "nbconvert_exporter": "python",
   "pygments_lexer": "ipython3",
   "version": "3.5.1"
  }
 },
 "nbformat": 4,
 "nbformat_minor": 0
}
